{
 "cells": [
  {
   "cell_type": "markdown",
   "metadata": {},
   "source": [
    "This notebook is meant to reproduce the unrecoverable OOM error thrown in the Apache Ignite system as a result of IGNITE-12042."
   ]
  },
  {
   "cell_type": "markdown",
   "metadata": {},
   "source": [
    "# Configuration"
   ]
  },
  {
   "cell_type": "code",
   "execution_count": null,
   "metadata": {},
   "outputs": [],
   "source": [
    "%%bash\n",
    "\n",
    "# Change these paths according to what you need. The default should work on a vanilla Chameleon Cloud instance.\n",
    "IGNITE_DIR=\"/home/cc/apache-ignite\"\n",
    "DATA_DIR=\"/home/cc\""
   ]
  },
  {
   "cell_type": "markdown",
   "metadata": {},
   "source": [
    "# Install dependencies"
   ]
  },
  {
   "cell_type": "code",
   "execution_count": null,
   "metadata": {},
   "outputs": [],
   "source": [
    "%%bash\n",
    "\n",
    "# Install Java 8 and Maven\n",
    "sudo apt update\n",
    "sudo apt install openjdk-8-jdk\n",
    "sudo apt install maven"
   ]
  },
  {
   "cell_type": "markdown",
   "metadata": {},
   "source": [
    "# Install Ignite"
   ]
  },
  {
   "cell_type": "markdown",
   "metadata": {},
   "source": [
    "## Clone repository"
   ]
  },
  {
   "cell_type": "code",
   "execution_count": null,
   "metadata": {},
   "outputs": [],
   "source": [
    "%%bash\n",
    "\n",
    "# Clone the repository and use ignite-12042 (patch) branch\n",
    "git clone https://github.com/gridgain/apache-ignite.git\n",
    "cd /home/cc/apache-ignite\n",
    "git reset --hard origin/ignite-12042"
   ]
  },
  {
   "cell_type": "markdown",
   "metadata": {},
   "source": [
    "# Generate pre-patch data"
   ]
  },
  {
   "cell_type": "markdown",
   "metadata": {},
   "source": [
    "## Revert patch"
   ]
  },
  {
   "cell_type": "code",
   "execution_count": null,
   "metadata": {},
   "outputs": [],
   "source": [
    "%%bash\n",
    "\n",
    "# Revert the fix (line 105 of RowStore.java)\n",
    "sed -i \"105d\" /home/cc/apache-ignite/modules/core/src/main/java/org/apache/ignite/internal/processors/cache/persistence/RowStore.java"
   ]
  },
  {
   "cell_type": "markdown",
   "metadata": {},
   "source": [
    "## Add logging to test"
   ]
  },
  {
   "cell_type": "code",
   "execution_count": null,
   "metadata": {},
   "outputs": [],
   "source": [
    "%%bash\n",
    "\n",
    "# Add logging\n",
    "FILE=\"$(IGNITE_DIR)/modules/core/src/test/java/org/apache/ignite/internal/processors/cache/CacheIgniteOutOfMemoryExceptionTest.java\"\n",
    "sed -i \"35  i\\import java.io.FileWriter;\\nimport java.io.PrintWriter;\\nimport java.io.IOException;\" $FILE\n",
    "sed -i \"131 i\\        int key = 0;\" $FILE\n",
    "sed -i \"134 d\" $FILE\n",
    "sed -i \"134 i\\                for (; key < 500_000; ++key)\" $FILE\n",
    "sed -i \"140 i\\                try (FileWriter fw = new FileWriter(\\\"$(DATA_DIR)/pre-patch.txt\\\", true); PrintWriter writer = new PrintWriter(fw)) {\\n                    writer.printf(\\\"%d\\\\n\\\", key);\\n                } catch (IOException xxx) {}\" $FILE"
   ]
  },
  {
   "cell_type": "markdown",
   "metadata": {},
   "source": [
    "## Run failing test"
   ]
  },
  {
   "cell_type": "markdown",
   "metadata": {},
   "source": [
    "This will generate `pre-patch.txt` in `/home/cc/`"
   ]
  },
  {
   "cell_type": "code",
   "execution_count": null,
   "metadata": {},
   "outputs": [],
   "source": [
    "%%bash\n",
    "\n",
    "# Run the failing test\n",
    "cd /home/cc/apache-ignite/modules/core\n",
    "mvn test -Dtest=CacheIgniteOutOfMemoryExceptionTest"
   ]
  },
  {
   "cell_type": "markdown",
   "metadata": {},
   "source": [
    "# Generate post-patch data"
   ]
  },
  {
   "cell_type": "markdown",
   "metadata": {},
   "source": [
    "## Apply patch"
   ]
  },
  {
   "cell_type": "code",
   "execution_count": null,
   "metadata": {},
   "outputs": [],
   "source": [
    "%%bash\n",
    "\n",
    "# Apply the fix\n",
    "git reset --hard origin/ignite-12042"
   ]
  },
  {
   "cell_type": "markdown",
   "metadata": {},
   "source": [
    "## Add logging to test"
   ]
  },
  {
   "cell_type": "code",
   "execution_count": null,
   "metadata": {},
   "outputs": [],
   "source": [
    "%%bash\n",
    "\n",
    "# Add logging\n",
    "FILE=\"$(IGNITE_DIR)/apache-ignite/modules/core/src/test/java/org/apache/ignite/internal/processors/cache/CacheIgniteOutOfMemoryExceptionTest.java\"\n",
    "sed -i \"35  i\\import java.io.FileWriter;\\nimport java.io.PrintWriter;\\nimport java.io.IOException;\" $FILE\n",
    "sed -i \"131 i\\        int key = 0;\" $FILE\n",
    "sed -i \"134 d\" $FILE\n",
    "sed -i \"134 i\\                for (; key < 500_000; ++key)\" $FILE\n",
    "sed -i \"140 i\\                try (FileWriter fw = new FileWriter(\\\"$(DATA_DIR)/post-patch.txt\\\", true); PrintWriter writer = new PrintWriter(fw)) {\\n                    writer.printf(\\\"%d\\\\n\\\", key);\\n                } catch (IOException xxx) {}\" $FILE"
   ]
  },
  {
   "cell_type": "markdown",
   "metadata": {},
   "source": [
    "## Run successful test"
   ]
  },
  {
   "cell_type": "code",
   "execution_count": null,
   "metadata": {},
   "outputs": [],
   "source": [
    "%%bash\n",
    "\n",
    "# Run the successful test\n",
    "mvn test -Dtest=CacheIgniteOutOfMemoryExceptionTest"
   ]
  },
  {
   "cell_type": "markdown",
   "metadata": {},
   "source": [
    "# Create plot"
   ]
  },
  {
   "cell_type": "code",
   "execution_count": null,
   "metadata": {},
   "outputs": [],
   "source": [
    "import matplotlib.pyplot as plt\n",
    "import numpy as np"
   ]
  },
  {
   "cell_type": "code",
   "execution_count": null,
   "metadata": {},
   "outputs": [],
   "source": [
    "prepatch = []\n",
    "postpatch = []\n",
    "\n",
    "with open(\"{}/pre-patch.txt\".format(os.environ[\"DATA_DIR\"])) as file:\n",
    "    for line in file:\n",
    "        prepatch.append(int(line))\n",
    "\n",
    "with open(\"{}/post-patch.txt\".format(os.environ[\"DATA_DIR\"])) as file:\n",
    "    for line in file:\n",
    "        postpatch.append(int(line))\n",
    "\n",
    "# Pad prepatch retry array with 0s (lack of retries ~ failed retries).\n",
    "length = len(postpatch)\n",
    "indices = np.arange(length)\n",
    "prepatch = prepatch + (length - len(prepatch)) * [0]\n",
    "\n",
    "width = 0.3\n",
    "plt.bar(indices, prepatch, width, label='pre-patch')\n",
    "plt.bar(indices + width, postpatch, width, label='post-patch')\n",
    "\n",
    "plt.ylabel('Successful puts < OOM thrown')\n",
    "plt.xlabel('Retry ID')\n",
    "plt.title('IGNITE-12042: Unrecoverable OOM')\n",
    "\n",
    "plt.legend(loc='best')\n",
    "plt.show()"
   ]
  }
 ],
 "metadata": {
  "kernelspec": {
   "display_name": "Python 3",
   "language": "python",
   "name": "python3"
  },
  "language_info": {
   "codemirror_mode": {
    "name": "ipython",
    "version": 3
   },
   "file_extension": ".py",
   "mimetype": "text/x-python",
   "name": "python",
   "nbconvert_exporter": "python",
   "pygments_lexer": "ipython3",
   "version": "3.8.3"
  }
 },
 "nbformat": 4,
 "nbformat_minor": 4
}
